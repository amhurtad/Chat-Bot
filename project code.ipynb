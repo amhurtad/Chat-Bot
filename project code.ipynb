{
 "cells": [
  {
   "cell_type": "code",
   "execution_count": 1,
   "metadata": {},
   "outputs": [],
   "source": [
    "#For my project I wanted to create some sort of chatbot planner that would make either movie\n",
    "#or dinner plans depending on what the user chose. After choosing the day they want to make plans\n",
    "#the chatbot would then ask user several questions to see if they wanted to make dinner or movie plans\n",
    "#then even further it would ask what kind of genre or cuisine they were interested in depending on\n",
    "#what they had chosen between dinner or movie. The chatbot makes recomendations from those answers and \n",
    "#gives either movies playing in theaters in La Jolla that match the genre or nearby restaurants I researched\n",
    "#on yelp that have good reviews and match the person's cuisine input. once the user has exited out by \n",
    "#saying \"im done\", the chatbot returns a dictionary of the users plans it has been storing so far\n",
    "#throughout the chat based on what day they chose to make plans in and what activities the\n",
    "#chatbot suggested to plan on that day based on the user's preferences"
   ]
  },
  {
   "cell_type": "code",
   "execution_count": 2,
   "metadata": {},
   "outputs": [],
   "source": [
    "import random\n",
    "import string\n",
    "import nltk\n",
    "\n",
    "\n",
    "from module.mymodule import *"
   ]
  },
  {
   "cell_type": "code",
   "execution_count": null,
   "metadata": {},
   "outputs": [],
   "source": []
  },
  {
   "cell_type": "code",
   "execution_count": null,
   "metadata": {},
   "outputs": [],
   "source": []
  }
 ],
 "metadata": {
  "kernelspec": {
   "display_name": "Python 3",
   "language": "python",
   "name": "python3"
  },
  "language_info": {
   "codemirror_mode": {
    "name": "ipython",
    "version": 3
   },
   "file_extension": ".py",
   "mimetype": "text/x-python",
   "name": "python",
   "nbconvert_exporter": "python",
   "pygments_lexer": "ipython3",
   "version": "3.7.3"
  }
 },
 "nbformat": 4,
 "nbformat_minor": 2
}
