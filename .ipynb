{
 "cells": [
  {
   "cell_type": "code",
   "execution_count": 1,
   "metadata": {},
   "outputs": [],
   "source": [
    "#For my project I wanted to create some sort of chatbot planner that would make either movie\n",
    "#or dinner plans depending on what the user chose. After choosing the day they want to make plans\n",
    "#the chatbot would then ask user several questions to see if they wanted to make dinner or movie plans\n",
    "#then even further it would ask what kind of genre or cuisine they were interested in depending on\n",
    "#what they had chosen between dinner or movie. The chatbot makes recomendations from those answers and \n",
    "#gives either movies playing in theaters in La Jolla that match the genre or nearby restaurants I researched\n",
    "#on yelp that have good reviews and match the person's cuisine input. once the user has exited out by \n",
    "#saying \"im done\", the chatbot returns a dictionary of the users plans it has been storing so far\n",
    "#throughout the chat based on what day they chose to make plans in and what activities the\n",
    "#chatbot suggested to plan on that day based on the user's preferences"
   ]
  },
  {
   "cell_type": "code",
   "execution_count": 1,
   "metadata": {},
   "outputs": [],
   "source": [
    "import random\n",
    "import string\n",
    "import nltk\n",
    "\n",
    "\n",
    "from module.mymodule import *"
   ]
  },
  {
   "cell_type": "code",
   "execution_count": 2,
   "metadata": {},
   "outputs": [
    {
     "name": "stdout",
     "output_type": "stream",
     "text": [
      "\thi\n",
      "Hi! I am here to help you plan your week! Are you ready? Once you are happy with your plans, just say 'im done' and I will repeat back your plans to you!\n",
      "\tok\n",
      "What day of the week would you like to plan for?\n",
      "\tmonday\n",
      "Would you like to look at dinner or movie plans?\n",
      "\tdinner\n",
      "Okay! What kind of cuisine are you in the mood for?\n",
      "\titalian\n",
      "Sounds good!  I found the top rated restaurants on Yelp in the La Jolla area known for their italian: Piatti, Bernini's Bistro, Osteria Romantica, Pizza Pronto\n",
      "\tthanks!\n",
      "You're welcome! Would you like to make more plans?\n",
      "\tyes\n",
      "What day of the week would you like to plan for?\n",
      "\ttuesday\n",
      "Would you like to look at dinner or movie plans?\n",
      "\tmovie\n",
      "Awesome! What kind of movie are you looking to watch?\n",
      "\tcomedy\n",
      "Great choice! I have found these movies currently playing in theaters near you under comedy: Once Upon a Time in Hollywood\n",
      "\tthanks\n",
      "You're welcome! Would you like to make more plans?\n",
      "\tyes\n",
      "What day of the week would you like to plan for?\n",
      "\twednesday\n",
      "Would you like to look at dinner or movie plans?\n",
      "\tdinner\n",
      "Okay! What kind of cuisine are you in the mood for?\n",
      "\tmexican\n",
      "Sounds good!  I found the top rated restaurants on Yelp in the La Jolla area known for their mexican: Puesto La Jolla, The Taco Stand, Vallarta's, Pueblo\n",
      "\tthx!\n",
      "You're welcome! Would you like to make more plans?\n",
      "\tim done\n",
      "Here are your week plans: {'monday': \"Piatti, Bernini's Bistro, Osteria Romantica, Pizza Pronto\", 'tuesday': 'Once Upon a Time in Hollywood', 'wednesday': \"Puesto La Jolla, The Taco Stand, Vallarta's, Pueblo\"}\n"
     ]
    }
   ],
   "source": [
    "chat_bot()"
   ]
  },
  {
   "cell_type": "code",
   "execution_count": null,
   "metadata": {},
   "outputs": [],
   "source": []
  }
 ],
 "metadata": {
  "kernelspec": {
   "display_name": "Python 3",
   "language": "python",
   "name": "python3"
  },
  "language_info": {
   "codemirror_mode": {
    "name": "ipython",
    "version": 3
   },
   "file_extension": ".py",
   "mimetype": "text/x-python",
   "name": "python",
   "nbconvert_exporter": "python",
   "pygments_lexer": "ipython3",
   "version": "3.7.3"
  }
 },
 "nbformat": 4,
 "nbformat_minor": 2
}
